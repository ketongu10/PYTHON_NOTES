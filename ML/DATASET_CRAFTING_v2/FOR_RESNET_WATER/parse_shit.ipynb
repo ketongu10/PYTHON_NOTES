{
 "cells": [
  {
   "cell_type": "code",
   "execution_count": null,
   "id": "initial_id",
   "metadata": {
    "collapsed": true
   },
   "outputs": [],
   "source": []
  },
  {
   "cell_type": "code",
   "outputs": [],
   "source": [
    "from pathlib import Path"
   ],
   "metadata": {
    "collapsed": false,
    "ExecuteTime": {
     "end_time": "2024-04-10T14:53:50.229195Z",
     "start_time": "2024-04-10T14:53:50.227181Z"
    }
   },
   "id": "7fc2fc68db6b9ef0",
   "execution_count": 14
  },
  {
   "cell_type": "code",
   "outputs": [],
   "source": [
    "file = \"/home/popovpe/blender-3.4.1-linux-x64/results/DATASET/UP NEW/104 19.02 up new/water_flow/1056/settings.txt\""
   ],
   "metadata": {
    "collapsed": false,
    "ExecuteTime": {
     "end_time": "2024-04-10T14:53:50.773221Z",
     "start_time": "2024-04-10T14:53:50.770715Z"
    }
   },
   "id": "3dc80bdb15d9538e",
   "execution_count": 15
  },
  {
   "cell_type": "code",
   "outputs": [],
   "source": [
    "res = eval(Path(file).read_text().replace(\"Vector\", \"\"))"
   ],
   "metadata": {
    "collapsed": false,
    "ExecuteTime": {
     "end_time": "2024-04-10T14:54:06.643139Z",
     "start_time": "2024-04-10T14:54:06.640780Z"
    }
   },
   "id": "80cbc2a9b23d95e4",
   "execution_count": 17
  },
  {
   "cell_type": "code",
   "outputs": [
    {
     "name": "stdout",
     "output_type": "stream",
     "text": [
      "{'color1': (0.9181543564135003, 0.8157129215139965, 0.9801226083248382, 1), 'color2': (0.9181543564135003, 0.8157129215139965, 0.9801226083248382, 1), 'roughness': 0.19355947677178878, 'brightness': 0.9801226083248382, 'IOR': 3.398873037448541, 'domain_resolution_max': 10, 'domain_dimensions': (0.6000000238418579, 0.6000000238418579, 0.9411858320236206), 'flow_type': 'Flow_from_pipe', 'baking_time': 55, 'stride': 6, 'end_frame': 135, 'cache_folder': 'Not stated', 'should_use_dirt': False, 'should_shake_camera': False, 'should_spawn_human': True, 'should_spawn_flying_tresh': False, 'should_water_flow': False, 'should_use_additional_light': True, 'should_add_snow': False, 'should_add_smoke': True, 'should_move_pipe': False, 'should_add_blind_source': False, 'special_equipment': True, 'should_spawn_ropes': False, 'should_cover_with_snow': True, 'density': 32, 'smoke_color': 0.5227379174444406, 'blackbody_intensity': 21, 'temperature': 921}\n"
     ]
    }
   ],
   "source": [
    "print(res)"
   ],
   "metadata": {
    "collapsed": false,
    "ExecuteTime": {
     "end_time": "2024-04-10T14:54:07.397724Z",
     "start_time": "2024-04-10T14:54:07.394593Z"
    }
   },
   "id": "786e5573a87038f9",
   "execution_count": 18
  },
  {
   "cell_type": "code",
   "outputs": [],
   "source": [],
   "metadata": {
    "collapsed": false
   },
   "id": "7a096494040bceb4"
  }
 ],
 "metadata": {
  "kernelspec": {
   "display_name": "Python 3",
   "language": "python",
   "name": "python3"
  },
  "language_info": {
   "codemirror_mode": {
    "name": "ipython",
    "version": 2
   },
   "file_extension": ".py",
   "mimetype": "text/x-python",
   "name": "python",
   "nbconvert_exporter": "python",
   "pygments_lexer": "ipython2",
   "version": "2.7.6"
  }
 },
 "nbformat": 4,
 "nbformat_minor": 5
}
